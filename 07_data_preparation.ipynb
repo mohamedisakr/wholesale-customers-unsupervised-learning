{
 "cells": [
  {
   "cell_type": "code",
   "execution_count": 23,
   "id": "32300ecd",
   "metadata": {},
   "outputs": [],
   "source": [
    "import pandas as pd\n",
    "import numpy as np\n",
    "import matplotlib.pyplot as plt\n",
    "import seaborn as sns\n",
    "\n",
    "from sklearn.preprocessing import MinMaxScaler\n",
    "from sklearn.preprocessing import StandardScaler\n",
    "from sklearn.preprocessing import Normalizer\n",
    "from sklearn.preprocessing import Binarizer"
   ]
  },
  {
   "cell_type": "code",
   "execution_count": 2,
   "id": "e6c867f1",
   "metadata": {},
   "outputs": [],
   "source": [
    "pima_df = pd.read_csv(\"raw_data\\diabetes.csv\")"
   ]
  },
  {
   "cell_type": "code",
   "execution_count": 3,
   "id": "d5abe952",
   "metadata": {},
   "outputs": [
    {
     "data": {
      "text/plain": [
       "(768, 9)"
      ]
     },
     "execution_count": 3,
     "metadata": {},
     "output_type": "execute_result"
    }
   ],
   "source": [
    "pima_df.shape"
   ]
  },
  {
   "cell_type": "code",
   "execution_count": 4,
   "id": "db27256a",
   "metadata": {},
   "outputs": [
    {
     "data": {
      "text/plain": [
       "Index(['Pregnancies', 'Glucose', 'BloodPressure', 'SkinThickness', 'Insulin',\n",
       "       'BMI', 'DiabetesPedigreeFunction', 'Age', 'Outcome'],\n",
       "      dtype='object')"
      ]
     },
     "execution_count": 4,
     "metadata": {},
     "output_type": "execute_result"
    }
   ],
   "source": [
    "pima_df.columns"
   ]
  },
  {
   "cell_type": "code",
   "execution_count": 5,
   "id": "3f972200",
   "metadata": {},
   "outputs": [
    {
     "data": {
      "text/html": [
       "<div>\n",
       "<style scoped>\n",
       "    .dataframe tbody tr th:only-of-type {\n",
       "        vertical-align: middle;\n",
       "    }\n",
       "\n",
       "    .dataframe tbody tr th {\n",
       "        vertical-align: top;\n",
       "    }\n",
       "\n",
       "    .dataframe thead th {\n",
       "        text-align: right;\n",
       "    }\n",
       "</style>\n",
       "<table border=\"1\" class=\"dataframe\">\n",
       "  <thead>\n",
       "    <tr style=\"text-align: right;\">\n",
       "      <th></th>\n",
       "      <th>Pregnancies</th>\n",
       "      <th>Glucose</th>\n",
       "      <th>BloodPressure</th>\n",
       "      <th>SkinThickness</th>\n",
       "      <th>Insulin</th>\n",
       "      <th>BMI</th>\n",
       "      <th>DiabetesPedigreeFunction</th>\n",
       "      <th>Age</th>\n",
       "      <th>Outcome</th>\n",
       "    </tr>\n",
       "  </thead>\n",
       "  <tbody>\n",
       "    <tr>\n",
       "      <th>0</th>\n",
       "      <td>6</td>\n",
       "      <td>148</td>\n",
       "      <td>72</td>\n",
       "      <td>35</td>\n",
       "      <td>0</td>\n",
       "      <td>33.6</td>\n",
       "      <td>0.627</td>\n",
       "      <td>50</td>\n",
       "      <td>1</td>\n",
       "    </tr>\n",
       "    <tr>\n",
       "      <th>1</th>\n",
       "      <td>1</td>\n",
       "      <td>85</td>\n",
       "      <td>66</td>\n",
       "      <td>29</td>\n",
       "      <td>0</td>\n",
       "      <td>26.6</td>\n",
       "      <td>0.351</td>\n",
       "      <td>31</td>\n",
       "      <td>0</td>\n",
       "    </tr>\n",
       "    <tr>\n",
       "      <th>2</th>\n",
       "      <td>8</td>\n",
       "      <td>183</td>\n",
       "      <td>64</td>\n",
       "      <td>0</td>\n",
       "      <td>0</td>\n",
       "      <td>23.3</td>\n",
       "      <td>0.672</td>\n",
       "      <td>32</td>\n",
       "      <td>1</td>\n",
       "    </tr>\n",
       "    <tr>\n",
       "      <th>3</th>\n",
       "      <td>1</td>\n",
       "      <td>89</td>\n",
       "      <td>66</td>\n",
       "      <td>23</td>\n",
       "      <td>94</td>\n",
       "      <td>28.1</td>\n",
       "      <td>0.167</td>\n",
       "      <td>21</td>\n",
       "      <td>0</td>\n",
       "    </tr>\n",
       "    <tr>\n",
       "      <th>4</th>\n",
       "      <td>0</td>\n",
       "      <td>137</td>\n",
       "      <td>40</td>\n",
       "      <td>35</td>\n",
       "      <td>168</td>\n",
       "      <td>43.1</td>\n",
       "      <td>2.288</td>\n",
       "      <td>33</td>\n",
       "      <td>1</td>\n",
       "    </tr>\n",
       "  </tbody>\n",
       "</table>\n",
       "</div>"
      ],
      "text/plain": [
       "   Pregnancies  Glucose  BloodPressure  SkinThickness  Insulin   BMI  \\\n",
       "0            6      148             72             35        0  33.6   \n",
       "1            1       85             66             29        0  26.6   \n",
       "2            8      183             64              0        0  23.3   \n",
       "3            1       89             66             23       94  28.1   \n",
       "4            0      137             40             35      168  43.1   \n",
       "\n",
       "   DiabetesPedigreeFunction  Age  Outcome  \n",
       "0                     0.627   50        1  \n",
       "1                     0.351   31        0  \n",
       "2                     0.672   32        1  \n",
       "3                     0.167   21        0  \n",
       "4                     2.288   33        1  "
      ]
     },
     "execution_count": 5,
     "metadata": {},
     "output_type": "execute_result"
    }
   ],
   "source": [
    "pima_df.head()"
   ]
  },
  {
   "cell_type": "code",
   "execution_count": 6,
   "id": "220ddca4",
   "metadata": {},
   "outputs": [],
   "source": [
    "# scale data (between 0 and 1)\n",
    "\n",
    "# Split the data into features and target\n",
    "X = pima_df.drop('Outcome', axis=1)\n",
    "y = pima_df['Outcome']"
   ]
  },
  {
   "cell_type": "code",
   "execution_count": 7,
   "id": "aac58882",
   "metadata": {},
   "outputs": [
    {
     "data": {
      "text/plain": [
       "Index(['Pregnancies', 'Glucose', 'BloodPressure', 'SkinThickness', 'Insulin',\n",
       "       'BMI', 'DiabetesPedigreeFunction', 'Age'],\n",
       "      dtype='object')"
      ]
     },
     "execution_count": 7,
     "metadata": {},
     "output_type": "execute_result"
    }
   ],
   "source": [
    "X.columns"
   ]
  },
  {
   "cell_type": "code",
   "execution_count": 10,
   "id": "9c88cce2",
   "metadata": {},
   "outputs": [
    {
     "data": {
      "text/plain": [
       "0      1\n",
       "1      0\n",
       "2      1\n",
       "3      0\n",
       "4      1\n",
       "      ..\n",
       "763    0\n",
       "764    0\n",
       "765    0\n",
       "766    1\n",
       "767    0\n",
       "Name: Outcome, Length: 768, dtype: int64"
      ]
     },
     "execution_count": 10,
     "metadata": {},
     "output_type": "execute_result"
    }
   ],
   "source": [
    "y"
   ]
  },
  {
   "cell_type": "code",
   "execution_count": 11,
   "id": "3c956a76",
   "metadata": {},
   "outputs": [],
   "source": [
    "# rescale data (between 0 and 1)\n",
    "scaler = MinMaxScaler(feature_range=(0, 1))\n",
    "rescaled_X = scaler.fit_transform(X)"
   ]
  },
  {
   "cell_type": "code",
   "execution_count": 15,
   "id": "e5b3d6a1",
   "metadata": {},
   "outputs": [
    {
     "name": "stdout",
     "output_type": "stream",
     "text": [
      "[[0.35294118 0.74371859 0.59016393 0.35353535 0.         0.50074516\n",
      "  0.23441503 0.48333333]\n",
      " [0.05882353 0.42713568 0.54098361 0.29292929 0.         0.39642325\n",
      "  0.11656704 0.16666667]\n",
      " [0.47058824 0.91959799 0.52459016 0.         0.         0.34724292\n",
      "  0.25362938 0.18333333]\n",
      " [0.05882353 0.44723618 0.54098361 0.23232323 0.11111111 0.41877794\n",
      "  0.03800171 0.        ]\n",
      " [0.         0.68844221 0.32786885 0.35353535 0.19858156 0.64232489\n",
      "  0.94363792 0.2       ]]\n"
     ]
    }
   ],
   "source": [
    "print(rescaled_X[0:5,:])"
   ]
  },
  {
   "cell_type": "code",
   "execution_count": 19,
   "id": "9f0ac101",
   "metadata": {},
   "outputs": [
    {
     "name": "stdout",
     "output_type": "stream",
     "text": [
      "[[ 0.64  0.85  0.15  0.91 -0.69  0.2   0.47  1.43]\n",
      " [-0.84 -1.12 -0.16  0.53 -0.69 -0.68 -0.37 -0.19]\n",
      " [ 1.23  1.94 -0.26 -1.29 -0.69 -1.1   0.6  -0.11]\n",
      " [-0.84 -1.   -0.16  0.15  0.12 -0.49 -0.92 -1.04]\n",
      " [-1.14  0.5  -1.5   0.91  0.77  1.41  5.48 -0.02]]\n"
     ]
    }
   ],
   "source": [
    "# Standardize data (0 mean, 1 stdev)\n",
    "scaler = StandardScaler().fit(X)\n",
    "rescaled_X = scaler.transform(X)\n",
    "\n",
    "# summarize transformed data\n",
    "np.set_printoptions(precision=2)\n",
    "print(rescaled_X[0:5,:])"
   ]
  },
  {
   "cell_type": "code",
   "execution_count": 22,
   "id": "00c37443",
   "metadata": {},
   "outputs": [
    {
     "name": "stdout",
     "output_type": "stream",
     "text": [
      "[[0.03 0.83 0.4  0.2  0.   0.19 0.   0.28]\n",
      " [0.01 0.72 0.56 0.24 0.   0.22 0.   0.26]\n",
      " [0.04 0.92 0.32 0.   0.   0.12 0.   0.16]\n",
      " [0.01 0.59 0.44 0.15 0.62 0.19 0.   0.14]\n",
      " [0.   0.6  0.17 0.15 0.73 0.19 0.01 0.14]]\n"
     ]
    }
   ],
   "source": [
    "# normalize data (length of 1)\n",
    "scaler = Normalizer().fit(X)\n",
    "normalized_X = scaler.transform(X)\n",
    "\n",
    "# summarize transformed data\n",
    "np.set_printoptions(precision=2)\n",
    "print(normalized_X[0:5,:])"
   ]
  },
  {
   "cell_type": "code",
   "execution_count": 24,
   "id": "d316476f",
   "metadata": {},
   "outputs": [
    {
     "name": "stdout",
     "output_type": "stream",
     "text": [
      "[[1. 1. 1. 1. 0. 1. 1. 1.]\n",
      " [1. 1. 1. 1. 0. 1. 1. 1.]\n",
      " [1. 1. 1. 0. 0. 1. 1. 1.]\n",
      " [1. 1. 1. 1. 1. 1. 1. 1.]\n",
      " [0. 1. 1. 1. 1. 1. 1. 1.]]\n"
     ]
    }
   ],
   "source": [
    "# binarization (thresholding)\n",
    "binarizer = Binarizer(threshold=0.0).fit(X)\n",
    "binary_X = binarizer.transform(X)\n",
    "\n",
    "# summarize transformed data\n",
    "np.set_printoptions(precision=2)\n",
    "print(binary_X[0:5,:])"
   ]
  },
  {
   "cell_type": "code",
   "execution_count": null,
   "id": "d51e5f4c",
   "metadata": {},
   "outputs": [],
   "source": []
  }
 ],
 "metadata": {
  "kernelspec": {
   "display_name": "Python 3 (ipykernel)",
   "language": "python",
   "name": "python3"
  },
  "language_info": {
   "codemirror_mode": {
    "name": "ipython",
    "version": 3
   },
   "file_extension": ".py",
   "mimetype": "text/x-python",
   "name": "python",
   "nbconvert_exporter": "python",
   "pygments_lexer": "ipython3",
   "version": "3.9.12"
  }
 },
 "nbformat": 4,
 "nbformat_minor": 5
}
