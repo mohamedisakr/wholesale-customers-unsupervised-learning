{
 "cells": [
  {
   "cell_type": "code",
   "execution_count": 14,
   "id": "69d3d862",
   "metadata": {},
   "outputs": [],
   "source": [
    "import pandas as pd\n",
    "import numpy as np\n",
    "import matplotlib.pyplot as plt\n",
    "import seaborn as sns\n",
    "\n",
    "from sklearn.preprocessing import MinMaxScaler, StandardScaler, Normalizer, Binarizer\n",
    "from sklearn.feature_selection import SelectKBest, chi2, RFE\n",
    "from sklearn.linear_model import LogisticRegression\n",
    "from sklearn.decomposition import PCA\n",
    "from sklearn.ensemble import ExtraTreesClassifier\n",
    "from sklearn.model_selection import train_test_split, KFold, cross_val_score, LeaveOneOut, cross_val_score, ShuffleSplit, cross_val_score"
   ]
  },
  {
   "cell_type": "code",
   "execution_count": 2,
   "id": "dd67db1e",
   "metadata": {},
   "outputs": [],
   "source": [
    "pima_df = pd.read_csv(\"raw_data\\diabetes.csv\")"
   ]
  },
  {
   "cell_type": "markdown",
   "id": "eb30100d",
   "metadata": {},
   "source": [
    "#### 4 different techniques that we can use to split up our training dataset and create useful estimates of performance for our machine learning algorithms:\n",
    "\n",
    "- Train and Test Sets.\n",
    "- k-fold Cross Validation.\n",
    "- Leave One Out Cross Validation.\n",
    "- Repeated Random Test-Train Splits."
   ]
  },
  {
   "cell_type": "markdown",
   "id": "192ae3ad",
   "metadata": {},
   "source": [
    "##### 1. Split into Train and Test Sets"
   ]
  },
  {
   "cell_type": "code",
   "execution_count": 3,
   "id": "ff9f8838",
   "metadata": {},
   "outputs": [],
   "source": [
    "# Split the data into features and target\n",
    "X = pima_df.drop('Outcome', axis=1)\n",
    "y = pima_df['Outcome']"
   ]
  },
  {
   "cell_type": "code",
   "execution_count": 5,
   "id": "afcca45a",
   "metadata": {},
   "outputs": [
    {
     "name": "stdout",
     "output_type": "stream",
     "text": [
      "Accuracy: 78.74015748031496\n"
     ]
    }
   ],
   "source": [
    "X_train, X_test, Y_train, Y_test = train_test_split(X, y, test_size=0.33,random_state=7)\n",
    "model = LogisticRegression(solver='lbfgs', max_iter=1000)\n",
    "model.fit(X_train, Y_train)\n",
    "result = model.score(X_test, Y_test)\n",
    "print(f\"Accuracy: {result*100.0}\") #% %.3f%%(result*100.0)"
   ]
  },
  {
   "cell_type": "markdown",
   "id": "0111bbf2",
   "metadata": {},
   "source": [
    "##### 2. K-fold Cross Validation"
   ]
  },
  {
   "cell_type": "code",
   "execution_count": 11,
   "id": "7af20a4e",
   "metadata": {},
   "outputs": [
    {
     "name": "stdout",
     "output_type": "stream",
     "text": [
      "Accuracy: (77.21633629528367, 4.96837651757489)\n"
     ]
    }
   ],
   "source": [
    "kfold = KFold(n_splits=10, shuffle=True, random_state=7)\n",
    "model = LogisticRegression(solver='lbfgs', max_iter=1000)\n",
    "results = cross_val_score(model, X, y, cv=kfold)\n",
    "print(f\"Accuracy: {(results.mean()*100.0, results.std()*100.0)}\")  # %.3f%% (%.3f%%)"
   ]
  },
  {
   "cell_type": "markdown",
   "id": "d316b832",
   "metadata": {},
   "source": [
    "##### 3. Leave One Out Cross Validation"
   ]
  },
  {
   "cell_type": "code",
   "execution_count": 13,
   "id": "6995846f",
   "metadata": {},
   "outputs": [
    {
     "name": "stdout",
     "output_type": "stream",
     "text": [
      "Accuracy: (77.60416666666666, 41.68944689773287)\n"
     ]
    }
   ],
   "source": [
    "loocv = LeaveOneOut()\n",
    "model = LogisticRegression(solver='lbfgs', max_iter=1000)\n",
    "results = cross_val_score(model, X, y, cv=loocv)\n",
    "print(f\"Accuracy: {(results.mean()*100.0, results.std()*100.0)}\") # % %.3f%% (%.3f%%)"
   ]
  },
  {
   "cell_type": "markdown",
   "id": "9cbdec6f",
   "metadata": {},
   "source": [
    "##### 4. Repeated Random Test-Train Splits"
   ]
  },
  {
   "cell_type": "code",
   "execution_count": 15,
   "id": "471290f4",
   "metadata": {},
   "outputs": [
    {
     "name": "stdout",
     "output_type": "stream",
     "text": [
      "Accuracy: (76.53543307086613, 2.235444026232818)\n"
     ]
    }
   ],
   "source": [
    "n_splits = 10\n",
    "test_size = 0.33\n",
    "seed = 7\n",
    "kfold = ShuffleSplit(n_splits=n_splits, test_size=test_size, random_state=seed)\n",
    "model = LogisticRegression(solver='lbfgs', max_iter=1000)\n",
    "results = cross_val_score(model, X, y, cv=kfold)\n",
    "print(f\"Accuracy: {(results.mean()*100.0, results.std()*100.0)}\") # % %.3f%% (%.3f%%) "
   ]
  },
  {
   "cell_type": "code",
   "execution_count": null,
   "id": "d824f369",
   "metadata": {},
   "outputs": [],
   "source": []
  }
 ],
 "metadata": {
  "kernelspec": {
   "display_name": "Python 3 (ipykernel)",
   "language": "python",
   "name": "python3"
  },
  "language_info": {
   "codemirror_mode": {
    "name": "ipython",
    "version": 3
   },
   "file_extension": ".py",
   "mimetype": "text/x-python",
   "name": "python",
   "nbconvert_exporter": "python",
   "pygments_lexer": "ipython3",
   "version": "3.9.12"
  }
 },
 "nbformat": 4,
 "nbformat_minor": 5
}
