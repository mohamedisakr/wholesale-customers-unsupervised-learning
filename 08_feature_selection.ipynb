{
 "cells": [
  {
   "cell_type": "code",
   "execution_count": 29,
   "id": "8ffa82c9",
   "metadata": {},
   "outputs": [],
   "source": [
    "import pandas as pd\n",
    "import numpy as np\n",
    "import matplotlib.pyplot as plt\n",
    "import seaborn as sns\n",
    "\n",
    "from sklearn.preprocessing import MinMaxScaler, StandardScaler, Normalizer, Binarizer\n",
    "from sklearn.feature_selection import SelectKBest, chi2, RFE\n",
    "from sklearn.linear_model import LogisticRegression\n",
    "from sklearn.decomposition import PCA\n",
    "from sklearn.ensemble import ExtraTreesClassifier"
   ]
  },
  {
   "cell_type": "code",
   "execution_count": 14,
   "id": "315009a1",
   "metadata": {},
   "outputs": [],
   "source": [
    "pima_df = pd.read_csv(\"raw_data\\diabetes.csv\")"
   ]
  },
  {
   "cell_type": "code",
   "execution_count": 15,
   "id": "5892a70d",
   "metadata": {},
   "outputs": [],
   "source": [
    "# scale data (between 0 and 1)\n",
    "\n",
    "# Split the data into features and target\n",
    "X = pima_df.drop('Outcome', axis=1)\n",
    "y = pima_df['Outcome']"
   ]
  },
  {
   "cell_type": "code",
   "execution_count": 16,
   "id": "fd8e85b2",
   "metadata": {},
   "outputs": [],
   "source": [
    "# rescale data (between 0 and 1)\n",
    "scaler = MinMaxScaler(feature_range=(0, 1))\n",
    "rescaled_X = scaler.fit_transform(X)"
   ]
  },
  {
   "cell_type": "code",
   "execution_count": 17,
   "id": "57b8e60c",
   "metadata": {},
   "outputs": [
    {
     "name": "stdout",
     "output_type": "stream",
     "text": [
      "[[0.353 0.744 0.59  0.354 0.    0.501 0.234 0.483]\n",
      " [0.059 0.427 0.541 0.293 0.    0.396 0.117 0.167]\n",
      " [0.471 0.92  0.525 0.    0.    0.347 0.254 0.183]\n",
      " [0.059 0.447 0.541 0.232 0.111 0.419 0.038 0.   ]\n",
      " [0.    0.688 0.328 0.354 0.199 0.642 0.944 0.2  ]]\n"
     ]
    }
   ],
   "source": [
    "print(rescaled_X[0:5,:])"
   ]
  },
  {
   "cell_type": "code",
   "execution_count": 18,
   "id": "d9d52a2a",
   "metadata": {},
   "outputs": [
    {
     "name": "stdout",
     "output_type": "stream",
     "text": [
      "[[ 0.64  0.85  0.15  0.91 -0.69  0.2   0.47  1.43]\n",
      " [-0.84 -1.12 -0.16  0.53 -0.69 -0.68 -0.37 -0.19]\n",
      " [ 1.23  1.94 -0.26 -1.29 -0.69 -1.1   0.6  -0.11]\n",
      " [-0.84 -1.   -0.16  0.15  0.12 -0.49 -0.92 -1.04]\n",
      " [-1.14  0.5  -1.5   0.91  0.77  1.41  5.48 -0.02]]\n"
     ]
    }
   ],
   "source": [
    "# Standardize data (0 mean, 1 stdev)\n",
    "scaler = StandardScaler().fit(X)\n",
    "rescaled_X = scaler.transform(X)\n",
    "\n",
    "# summarize transformed data\n",
    "np.set_printoptions(precision=2)\n",
    "print(rescaled_X[0:5,:])"
   ]
  },
  {
   "cell_type": "code",
   "execution_count": 19,
   "id": "137702fb",
   "metadata": {},
   "outputs": [
    {
     "name": "stdout",
     "output_type": "stream",
     "text": [
      "[[0.03 0.83 0.4  0.2  0.   0.19 0.   0.28]\n",
      " [0.01 0.72 0.56 0.24 0.   0.22 0.   0.26]\n",
      " [0.04 0.92 0.32 0.   0.   0.12 0.   0.16]\n",
      " [0.01 0.59 0.44 0.15 0.62 0.19 0.   0.14]\n",
      " [0.   0.6  0.17 0.15 0.73 0.19 0.01 0.14]]\n"
     ]
    }
   ],
   "source": [
    "# normalize data (length of 1)\n",
    "scaler = Normalizer().fit(X)\n",
    "normalized_X = scaler.transform(X)\n",
    "\n",
    "# summarize transformed data\n",
    "np.set_printoptions(precision=2)\n",
    "print(normalized_X[0:5,:])"
   ]
  },
  {
   "cell_type": "code",
   "execution_count": 20,
   "id": "134970af",
   "metadata": {},
   "outputs": [
    {
     "name": "stdout",
     "output_type": "stream",
     "text": [
      "[[1. 1. 1. 1. 0. 1. 1. 1.]\n",
      " [1. 1. 1. 1. 0. 1. 1. 1.]\n",
      " [1. 1. 1. 0. 0. 1. 1. 1.]\n",
      " [1. 1. 1. 1. 1. 1. 1. 1.]\n",
      " [0. 1. 1. 1. 1. 1. 1. 1.]]\n"
     ]
    }
   ],
   "source": [
    "# binarization (thresholding)\n",
    "binarizer = Binarizer(threshold=0.0).fit(X)\n",
    "binary_X = binarizer.transform(X)\n",
    "\n",
    "# summarize transformed data\n",
    "np.set_printoptions(precision=2)\n",
    "print(binary_X[0:5,:])"
   ]
  },
  {
   "cell_type": "markdown",
   "id": "ed26cad1",
   "metadata": {},
   "source": [
    "### Univariate Selection"
   ]
  },
  {
   "cell_type": "code",
   "execution_count": 21,
   "id": "90f312ee",
   "metadata": {},
   "outputs": [],
   "source": [
    "# feature extraction\n",
    "test = SelectKBest(score_func=chi2, k=4)\n",
    "fit = test.fit(X, y)"
   ]
  },
  {
   "cell_type": "code",
   "execution_count": 22,
   "id": "de0099ab",
   "metadata": {},
   "outputs": [
    {
     "name": "stdout",
     "output_type": "stream",
     "text": [
      "[ 111.52  1411.887   17.605   53.108 2175.565  127.669    5.393  181.304]\n"
     ]
    }
   ],
   "source": [
    "# summarize scores\n",
    "np.set_printoptions(precision=3)\n",
    "print(fit.scores_)\n",
    "features = fit.transform(X)"
   ]
  },
  {
   "cell_type": "code",
   "execution_count": 23,
   "id": "977f0139",
   "metadata": {},
   "outputs": [
    {
     "name": "stdout",
     "output_type": "stream",
     "text": [
      "[[148.    0.   33.6  50. ]\n",
      " [ 85.    0.   26.6  31. ]\n",
      " [183.    0.   23.3  32. ]\n",
      " [ 89.   94.   28.1  21. ]\n",
      " [137.  168.   43.1  33. ]]\n"
     ]
    }
   ],
   "source": [
    "# summarize selected features\n",
    "print(features[0:5,:])"
   ]
  },
  {
   "cell_type": "markdown",
   "id": "89056b27",
   "metadata": {},
   "source": [
    "### Feature Extraction with RFE"
   ]
  },
  {
   "cell_type": "code",
   "execution_count": 12,
   "id": "d79f9b98",
   "metadata": {},
   "outputs": [
    {
     "name": "stdout",
     "output_type": "stream",
     "text": [
      "Num Features: 3\n",
      "Selected Features: [ True False False False False  True  True False]\n",
      "Feature Ranking: [1 2 4 6 5 1 1 3]\n"
     ]
    }
   ],
   "source": [
    "# # feature extraction\n",
    "# model = LogisticRegression(solver='lbfgs', max_iter=1000)\n",
    "# rfe = RFE(model, n_features_to_select=3)\n",
    "# fit = rfe.fit(X, y)\n",
    "\n",
    "# print(f\"Num Features: {fit.n_features_}\") \n",
    "# print(f\"Selected Features: {fit.support_}\") \n",
    "# print(f\"Feature Ranking: {fit.ranking_}\") "
   ]
  },
  {
   "cell_type": "code",
   "execution_count": 26,
   "id": "c802621d",
   "metadata": {
    "scrolled": true
   },
   "outputs": [],
   "source": [
    "# feature extraction\n",
    "pca = PCA(n_components=3)\n",
    "fit = pca.fit(X)"
   ]
  },
  {
   "cell_type": "code",
   "execution_count": 28,
   "id": "281618be",
   "metadata": {},
   "outputs": [
    {
     "name": "stdout",
     "output_type": "stream",
     "text": [
      "Explained Variance: [0.889 0.062 0.026]\n",
      "[[-2.022e-03  9.781e-02  1.609e-02  6.076e-02  9.931e-01  1.401e-02\n",
      "   5.372e-04 -3.565e-03]\n",
      " [-2.265e-02 -9.722e-01 -1.419e-01  5.786e-02  9.463e-02 -4.697e-02\n",
      "  -8.168e-04 -1.402e-01]\n",
      " [-2.246e-02  1.434e-01 -9.225e-01 -3.070e-01  2.098e-02 -1.324e-01\n",
      "  -6.400e-04 -1.255e-01]]\n"
     ]
    }
   ],
   "source": [
    "# summarize components\n",
    "print(f\"Explained Variance: {fit.explained_variance_ratio_}\") \n",
    "print(fit.components_)"
   ]
  },
  {
   "cell_type": "markdown",
   "id": "84927480",
   "metadata": {},
   "source": [
    "### Feature Importance"
   ]
  },
  {
   "cell_type": "code",
   "execution_count": 31,
   "id": "524b96d3",
   "metadata": {},
   "outputs": [
    {
     "name": "stdout",
     "output_type": "stream",
     "text": [
      "[0.109 0.237 0.099 0.077 0.077 0.141 0.115 0.145]\n"
     ]
    }
   ],
   "source": [
    "# feature extraction\n",
    "model = ExtraTreesClassifier()\n",
    "model.fit(X, y)\n",
    "print(model.feature_importances_)"
   ]
  },
  {
   "cell_type": "code",
   "execution_count": null,
   "id": "47cc7dbd",
   "metadata": {},
   "outputs": [],
   "source": []
  }
 ],
 "metadata": {
  "kernelspec": {
   "display_name": "Python 3 (ipykernel)",
   "language": "python",
   "name": "python3"
  },
  "language_info": {
   "codemirror_mode": {
    "name": "ipython",
    "version": 3
   },
   "file_extension": ".py",
   "mimetype": "text/x-python",
   "name": "python",
   "nbconvert_exporter": "python",
   "pygments_lexer": "ipython3",
   "version": "3.9.12"
  }
 },
 "nbformat": 4,
 "nbformat_minor": 5
}
